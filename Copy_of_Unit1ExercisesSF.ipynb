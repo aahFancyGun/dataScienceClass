{
  "nbformat": 4,
  "nbformat_minor": 0,
  "metadata": {
    "colab": {
      "provenance": [],
      "include_colab_link": true
    },
    "kernelspec": {
      "name": "python3",
      "display_name": "Python 3"
    },
    "language_info": {
      "name": "python"
    }
  },
  "cells": [
    {
      "cell_type": "markdown",
      "metadata": {
        "id": "view-in-github",
        "colab_type": "text"
      },
      "source": [
        "<a href=\"https://colab.research.google.com/github/aahFancyGun/dataScienceClass/blob/master/Copy_of_Unit1ExercisesSF.ipynb\" target=\"_parent\"><img src=\"https://colab.research.google.com/assets/colab-badge.svg\" alt=\"Open In Colab\"/></a>"
      ]
    },
    {
      "cell_type": "markdown",
      "source": [
        "# Unit 1 Exercises: Data Structure Concepts\n",
        "\n",
        "The following questions will ask you to describe the various objects we learned about in the first Unit.\n",
        "\n",
        "I'm not giving you coding exercises, because we will learn all the coding technqiues we need as we move through the course.\n",
        "\n",
        "What I do need from you right now, is a conceptual understanding how how data is stored in our computer, when we use python."
      ],
      "metadata": {
        "id": "65OCktLjbZmA"
      }
    },
    {
      "cell_type": "markdown",
      "source": [
        "**Task1**:\n",
        "\n",
        "Describe the similarities and differences between an int and a float in python."
      ],
      "metadata": {
        "id": "bt0bWe1evLtv"
      }
    },
    {
      "cell_type": "markdown",
      "source": [
        "**Answer1**:\n",
        "\n",
        "Both variable types are used to store numerical representations but in different forms. Int stores whole numbers in 32 bit representation. Contrastingly, float is a 64 bit representation of a rational number."
      ],
      "metadata": {
        "id": "FW3KHt4yvt90"
      }
    },
    {
      "cell_type": "markdown",
      "source": [
        "**Task2**:\n",
        "\n",
        "Describe the similarities and differences between: strings, lists, and dicts."
      ],
      "metadata": {
        "id": "mJ_i6he5wwgr"
      }
    },
    {
      "cell_type": "markdown",
      "source": [
        "**Answer2**:\n",
        "\n",
        "All three variable types can be iterated through in similar ways. A string is simply an array or list of chars which allows it to be iterated through in many of the same ways. A dictionary can also be iterated through similarly to a list but with the additional consideration of a key. How they differ though, is what they store and how they store it. A string as discussed before is just an array of chars and so a char is the only var type it can store. A list can store any variable type in any entry. Finally, a dictionary functions similarly to a hashmap in java in which a key is provided that corresponds to a specific value. I.e. if my key is \"cheese\": 32 where the dictionary is named cheeseStorer you might access 32 via cheeseStorer[\"cheese\"]."
      ],
      "metadata": {
        "id": "iFu5BKyWw98T"
      }
    },
    {
      "cell_type": "markdown",
      "source": [
        "**Task3**:\n",
        "\n",
        "What is a numpy array? Why would we ever use one over a list or dict?"
      ],
      "metadata": {
        "id": "56v05s45yBHk"
      }
    },
    {
      "cell_type": "markdown",
      "source": [
        "**Answer3**:\n",
        "\n",
        "numpy arrays, and by extension the numpy library provide additional functionality to programs compared to a list or dict. One of the first reasons we might use a numpy array is because the numpy library treats floats with more care compared to the normally defined float variable of vanilla python. Additionally, while python boasts very few math functions, numpy is able to add on an incredible amount. Python's only mathematical functions more or less only consist of abs() but numpy adds on exponents, logarithms, and trigonometric methods to name a few."
      ],
      "metadata": {
        "id": "eikgxyNzyLTY"
      }
    },
    {
      "cell_type": "markdown",
      "source": [
        "**Task4**:\n",
        "\n",
        "What is a pandas dataframe? Why would we ever want to use one over a numpy array?"
      ],
      "metadata": {
        "id": "RLaEQ5irywBl"
      }
    },
    {
      "cell_type": "markdown",
      "source": [
        "**Answer4**:\n",
        "\n",
        "A pandas dataframe can be thought of as another way of organizing information, while providing additional functionality on top of the numpy library due to the fact that it was built on top of it. Pandas dataframes can not only be created from numpy arrays but also from a variety of file types. Json, jsonl, and csv to name a few, all of which have very important real world applications. Because of this, there are many scenarios where we might want to use a dataframe over a numpy array. For example, because pandas offers a very useful query function, its possible to skip over iterating and searching through every element in a dataframe via for loop."
      ],
      "metadata": {
        "id": "5IkNlzYpy-HP"
      }
    },
    {
      "cell_type": "markdown",
      "source": [
        "**Task5**:\n",
        "\n",
        "What are for loops, and why would we ever use them?"
      ],
      "metadata": {
        "id": "khRn2d7qz1Y2"
      }
    },
    {
      "cell_type": "markdown",
      "source": [
        "**Answer5**:\n",
        "\n",
        "for loops define a set of iterations over a specific range, or other criteria. For example, the most basic for loop might for i in range(1, 1000), which would run its contents a thousand times. A more advanced one might use \"enumerate\". For loops allow us to go through massive amounts of uniform data very quickly, which is part of their main utility."
      ],
      "metadata": {
        "id": "NAdVfRZB1d9J"
      }
    }
  ]
}