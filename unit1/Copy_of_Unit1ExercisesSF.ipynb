{
  "cells": [
    {
      "cell_type": "markdown",
      "metadata": {
        "colab_type": "text",
        "id": "view-in-github"
      },
      "source": [
        "<a href=\"https://colab.research.google.com/github/aahFancyGun/dataScienceClass/blob/master/Copy_of_Unit1ExercisesSF.ipynb\" target=\"_parent\"><img src=\"https://colab.research.google.com/assets/colab-badge.svg\" alt=\"Open In Colab\"/></a>"
      ]
    },
    {
      "cell_type": "markdown",
      "metadata": {
        "id": "65OCktLjbZmA"
      },
      "source": [
        "# Unit 1 Exercises: Data Structure Concepts\n",
        "\n",
        "The following questions will ask you to describe the various objects we learned about in the first Unit.\n",
        "\n",
        "I'm not giving you coding exercises, because we will learn all the coding technqiues we need as we move through the course.\n",
        "\n",
        "What I do need from you right now, is a conceptual understanding how how data is stored in our computer, when we use python."
      ]
    },
    {
      "cell_type": "markdown",
      "metadata": {
        "id": "bt0bWe1evLtv"
      },
      "source": [
        "**Task1**:\n",
        "\n",
        "Describe the similarities and differences between an int and a float in python."
      ]
    },
    {
      "cell_type": "markdown",
      "metadata": {
        "id": "FW3KHt4yvt90"
      },
      "source": [
        "**Answer1**:\n",
        "\n",
        "Both variable types are used to store numerical representations but in different forms. Int stores whole numbers in 32 bit representation. Contrastingly, float is a 64 bit representation of a real number. Interestingly, floats are considered less precise compared to ints in almost all scenarios which affects how theyre used. A scenario where you might use an integer over a float is when youre indexing through an array, which only takes in whole numbers. Contratingly, you might use floats to represent real numbers like the square root of 2."
      ]
    },
    {
      "cell_type": "markdown",
      "metadata": {
        "id": "mJ_i6he5wwgr"
      },
      "source": [
        "**Task2**:\n",
        "\n",
        "Describe the similarities and differences between: strings, lists, and dicts."
      ]
    },
    {
      "cell_type": "markdown",
      "metadata": {
        "id": "iFu5BKyWw98T"
      },
      "source": [
        "**Answer2**:\n",
        "\n",
        "All three variable types can be iterated through in similar ways. A string is simply an array or list of chars which allows it to be iterated through in many of the same ways. A dictionary differs though, in how its accessed as the programmer must now take key-value pairs into consideration. Additionally, they differ in what they store and how they store it. A string as discussed before is just an array of chars and so a char is the only var type it can store. A list can store any variable type in any entry. Finally, a dictionary functions similarly to a hashmap in java in which a key is provided that corresponds to a specific value. I.e. if my key is \"cheese\": 32 where the dictionary is named cheeseStorer you might access 32 via cheeseStorer[\"cheese\"]. One more thing, strings are considered faster to operate on compared to the other types because strings consist of only one data type, which at the low level essentially means they are the same thing length. For strings, it is most optimal to store text to be interpreted by a human or other function that takes in a string as an argument. For example, LLMs often take input in via strings. Additionally, string type variables are imperative to accessing dictionaries. In the case of lists, they can be used to store anything from other lists, to ints, to strings, to dictionaries making them an incredibly versatile tool. One specific use case for lists might be for writing to a json file. By importing the json library and using it in combination with a list of dictionaries, it becomes trivial to write to a json file. Finally, dictionaries, with with their key-value pairs can be used to store specific important attributes about something. Lets say you have a dictionary with key-value pairs that define specific positions and statistics of something, you could have a list of those dictionaries that each store easily accessible data. A prime example of this actually exists within unit 1 notes, in which a pandas dataframe is defined by parsing data from the web about statistics of sports players. This data, while officially being a pandas dataframe, can also be represented quite easily through the framing of a list of dictionaries."
      ]
    },
    {
      "cell_type": "markdown",
      "metadata": {
        "id": "56v05s45yBHk"
      },
      "source": [
        "**Task3**:\n",
        "\n",
        "What is a numpy array? Why would we ever use one over a list or dict?"
      ]
    },
    {
      "cell_type": "markdown",
      "metadata": {
        "id": "eikgxyNzyLTY"
      },
      "source": [
        "**Answer3**:\n",
        "\n",
        "numpy arrays, and by extension the numpy library provide additional functionality to programs compared to a list or dict. One of the first reasons we might use a numpy array is because the numpy library treats floats with more care compared to the normally defined float variable of vanilla python. Additionally, while python boasts very few math functions, numpy is able to add on an incredible amount. Python's only mathematical functions more or less only consist of abs() but numpy adds on exponents, logarithms, and trigonometric methods to name a few."
      ]
    },
    {
      "cell_type": "markdown",
      "metadata": {
        "id": "RLaEQ5irywBl"
      },
      "source": [
        "**Task4**:\n",
        "\n",
        "What is a pandas dataframe? Why would we ever want to use one over a numpy array?"
      ]
    },
    {
      "cell_type": "markdown",
      "metadata": {
        "id": "5IkNlzYpy-HP"
      },
      "source": [
        "**Answer4**:\n",
        "\n",
        "A pandas dataframe can be thought of as another way of organizing information, while providing additional functionality on top of the numpy library due to the fact that it was built on top of it. Pandas dataframes can not only be created from numpy arrays but also from a variety of file types. Json, jsonl, and csv to name a few, all of which have very important real world applications. Because of this, there are many scenarios where we might want to use a dataframe over a numpy array. For example, because pandas offers a very useful query function, its possible to skip over iterating and searching through every element in a dataframe via for loop. Additionally, pandas dataframes can store multiple different data types which can give them more versatility in representing and visualizing data compared to a standard numpy array. Also, pandas dataframes have column headers which makes functions like query possible."
      ]
    },
    {
      "cell_type": "markdown",
      "metadata": {
        "id": "khRn2d7qz1Y2"
      },
      "source": [
        "**Task5**:\n",
        "\n",
        "What are for loops, and why would we ever use them?"
      ]
    },
    {
      "cell_type": "markdown",
      "metadata": {
        "id": "NAdVfRZB1d9J"
      },
      "source": [
        "**Answer5**:\n",
        "\n",
        "for loops define a set of iterations over a specific range, or other criteria. For example, the most basic for loop might for i in range(1, 1000), which would run its contents a thousand times. A more advanced one might use \"enumerate\". For loops allow us to go through massive amounts of uniform data very quickly, which is part of their main utility. "
      ]
    }
  ],
  "metadata": {
    "colab": {
      "include_colab_link": true,
      "provenance": []
    },
    "kernelspec": {
      "display_name": "Python 3",
      "name": "python3"
    },
    "language_info": {
      "name": "python"
    }
  },
  "nbformat": 4,
  "nbformat_minor": 0
}
