{
  "cells": [
    {
      "cell_type": "markdown",
      "metadata": {
        "colab_type": "text",
        "id": "view-in-github"
      },
      "source": [
        "<a href=\"https://colab.research.google.com/github/aahFancyGun/dataScienceClass/blob/master/unit2/YangChauU2Proj.ipynb\" target=\"_parent\"><img src=\"https://colab.research.google.com/assets/colab-badge.svg\" alt=\"Open In Colab\"/></a>"
      ]
    },
    {
      "cell_type": "markdown",
      "metadata": {
        "id": "-xcGedAWU_dH"
      },
      "source": [
        "#Introduction#\n",
        "\n",
        "The following model was designed to represent the chance that in a given year thirty percent of the the American population or more will be considered normal weight. Many assumptions made during this project were informed by America's status as one of the most obese countries in the world.\n",
        "\n",
        "1. Threshold of 30% wherein I am questioning whether or not the percentage of overweight people is above or below this number\n",
        "\n",
        "2. Data is condensed by the source into a few key averages that summarize all demographics / age ranges\n",
        "\n",
        "My project seeks to analyze the \"continuity of obesity\" in America and model graph that represents the most likely outcomes of years to come.\n",
        "\n",
        "##But why is that important?##\n",
        "\n",
        "With the obesity epidemic being such a severe health issue in many well developed countries like America, there is an ever growing need to analyze and understand how and why the obesity epidemic is even happening. One way of understanding it is through a statistics, which would allow governmental health authorities to better visualize and predict how American health will change in the coming years."
      ]
    },
    {
      "cell_type": "code",
      "execution_count": null,
      "metadata": {
        "colab": {
          "base_uri": "https://localhost:8080/"
        },
        "collapsed": true,
        "id": "UGXuraQsCSI4",
        "outputId": "14338cb8-1a16-41d5-e6d0-7579eff3c0cf"
      },
      "outputs": [],
      "source": [
        "!pip install \"preliz[full,notebook]\"\n"
      ]
    },
    {
      "cell_type": "code",
      "execution_count": 2,
      "metadata": {
        "id": "XbtrlTZtEn7C"
      },
      "outputs": [
        {
          "name": "stderr",
          "output_type": "stream",
          "text": [
            "WARNING (pytensor.tensor.blas): Using NumPy C-API based implementation for BLAS functions.\n"
          ]
        }
      ],
      "source": [
        "import pandas as pd\n",
        "import numpy as np\n",
        "import preliz as pz\n",
        "import arviz as az\n",
        "import pymc as pm\n"
      ]
    },
    {
      "cell_type": "code",
      "execution_count": 28,
      "metadata": {
        "colab": {
          "base_uri": "https://localhost:8080/",
          "height": 339
        },
        "id": "CXV2ZJW2Oyyn",
        "outputId": "75646543-a841-4d67-cf6d-b8d1cf30d012"
      },
      "outputs": [
        {
          "data": {
            "text/html": [
              "<div>\n",
              "<style scoped>\n",
              "    .dataframe tbody tr th:only-of-type {\n",
              "        vertical-align: middle;\n",
              "    }\n",
              "\n",
              "    .dataframe tbody tr th {\n",
              "        vertical-align: top;\n",
              "    }\n",
              "\n",
              "    .dataframe thead th {\n",
              "        text-align: right;\n",
              "    }\n",
              "</style>\n",
              "<table border=\"1\" class=\"dataframe\">\n",
              "  <thead>\n",
              "    <tr style=\"text-align: right;\">\n",
              "      <th></th>\n",
              "      <th>INDICATOR</th>\n",
              "      <th>PANEL</th>\n",
              "      <th>PANEL_NUM</th>\n",
              "      <th>UNIT</th>\n",
              "      <th>UNIT_NUM</th>\n",
              "      <th>STUB_NAME</th>\n",
              "      <th>STUB_NAME_NUM</th>\n",
              "      <th>STUB_LABEL</th>\n",
              "      <th>STUB_LABEL_NUM</th>\n",
              "      <th>YEAR</th>\n",
              "      <th>YEAR_NUM</th>\n",
              "      <th>AGE</th>\n",
              "      <th>AGE_NUM</th>\n",
              "      <th>ESTIMATE</th>\n",
              "      <th>SE</th>\n",
              "      <th>FLAG</th>\n",
              "    </tr>\n",
              "  </thead>\n",
              "  <tbody>\n",
              "    <tr>\n",
              "      <th>0</th>\n",
              "      <td>Normal weight, overweight, and obesity among a...</td>\n",
              "      <td>Normal weight (BMI from 18.5 to 24.9)</td>\n",
              "      <td>1</td>\n",
              "      <td>Percent of population, age-adjusted</td>\n",
              "      <td>1</td>\n",
              "      <td>Total</td>\n",
              "      <td>1</td>\n",
              "      <td>20 years and over</td>\n",
              "      <td>1.10</td>\n",
              "      <td>1988-1994</td>\n",
              "      <td>1</td>\n",
              "      <td>20 years and over</td>\n",
              "      <td>1.0</td>\n",
              "      <td>41.6</td>\n",
              "      <td>0.8</td>\n",
              "      <td>NaN</td>\n",
              "    </tr>\n",
              "    <tr>\n",
              "      <th>1</th>\n",
              "      <td>Normal weight, overweight, and obesity among a...</td>\n",
              "      <td>Normal weight (BMI from 18.5 to 24.9)</td>\n",
              "      <td>1</td>\n",
              "      <td>Percent of population, age-adjusted</td>\n",
              "      <td>1</td>\n",
              "      <td>Total</td>\n",
              "      <td>1</td>\n",
              "      <td>20 years and over</td>\n",
              "      <td>1.10</td>\n",
              "      <td>1999-2002</td>\n",
              "      <td>2</td>\n",
              "      <td>20 years and over</td>\n",
              "      <td>1.0</td>\n",
              "      <td>33.0</td>\n",
              "      <td>0.8</td>\n",
              "      <td>NaN</td>\n",
              "    </tr>\n",
              "    <tr>\n",
              "      <th>2</th>\n",
              "      <td>Normal weight, overweight, and obesity among a...</td>\n",
              "      <td>Normal weight (BMI from 18.5 to 24.9)</td>\n",
              "      <td>1</td>\n",
              "      <td>Percent of population, age-adjusted</td>\n",
              "      <td>1</td>\n",
              "      <td>Total</td>\n",
              "      <td>1</td>\n",
              "      <td>20 years and over</td>\n",
              "      <td>1.10</td>\n",
              "      <td>2001-2004</td>\n",
              "      <td>3</td>\n",
              "      <td>20 years and over</td>\n",
              "      <td>1.0</td>\n",
              "      <td>32.3</td>\n",
              "      <td>0.7</td>\n",
              "      <td>NaN</td>\n",
              "    </tr>\n",
              "    <tr>\n",
              "      <th>3</th>\n",
              "      <td>Normal weight, overweight, and obesity among a...</td>\n",
              "      <td>Normal weight (BMI from 18.5 to 24.9)</td>\n",
              "      <td>1</td>\n",
              "      <td>Percent of population, age-adjusted</td>\n",
              "      <td>1</td>\n",
              "      <td>Total</td>\n",
              "      <td>1</td>\n",
              "      <td>20 years and over</td>\n",
              "      <td>1.10</td>\n",
              "      <td>2003-2006</td>\n",
              "      <td>4</td>\n",
              "      <td>20 years and over</td>\n",
              "      <td>1.0</td>\n",
              "      <td>31.6</td>\n",
              "      <td>0.8</td>\n",
              "      <td>NaN</td>\n",
              "    </tr>\n",
              "    <tr>\n",
              "      <th>4</th>\n",
              "      <td>Normal weight, overweight, and obesity among a...</td>\n",
              "      <td>Normal weight (BMI from 18.5 to 24.9)</td>\n",
              "      <td>1</td>\n",
              "      <td>Percent of population, age-adjusted</td>\n",
              "      <td>1</td>\n",
              "      <td>Total</td>\n",
              "      <td>1</td>\n",
              "      <td>20 years and over</td>\n",
              "      <td>1.10</td>\n",
              "      <td>2005-2008</td>\n",
              "      <td>5</td>\n",
              "      <td>20 years and over</td>\n",
              "      <td>1.0</td>\n",
              "      <td>30.8</td>\n",
              "      <td>0.7</td>\n",
              "      <td>NaN</td>\n",
              "    </tr>\n",
              "    <tr>\n",
              "      <th>...</th>\n",
              "      <td>...</td>\n",
              "      <td>...</td>\n",
              "      <td>...</td>\n",
              "      <td>...</td>\n",
              "      <td>...</td>\n",
              "      <td>...</td>\n",
              "      <td>...</td>\n",
              "      <td>...</td>\n",
              "      <td>...</td>\n",
              "      <td>...</td>\n",
              "      <td>...</td>\n",
              "      <td>...</td>\n",
              "      <td>...</td>\n",
              "      <td>...</td>\n",
              "      <td>...</td>\n",
              "      <td>...</td>\n",
              "    </tr>\n",
              "    <tr>\n",
              "      <th>3355</th>\n",
              "      <td>Normal weight, overweight, and obesity among a...</td>\n",
              "      <td>Grade 3 obesity (BMI greater than or equal to ...</td>\n",
              "      <td>6</td>\n",
              "      <td>Percent of population, crude</td>\n",
              "      <td>2</td>\n",
              "      <td>Sex and age</td>\n",
              "      <td>6</td>\n",
              "      <td>Female: 75 years and over</td>\n",
              "      <td>6.26</td>\n",
              "      <td>2007-2010</td>\n",
              "      <td>6</td>\n",
              "      <td>75 years and over</td>\n",
              "      <td>1.6</td>\n",
              "      <td>3.4</td>\n",
              "      <td>0.8</td>\n",
              "      <td>*</td>\n",
              "    </tr>\n",
              "    <tr>\n",
              "      <th>3356</th>\n",
              "      <td>Normal weight, overweight, and obesity among a...</td>\n",
              "      <td>Grade 3 obesity (BMI greater than or equal to ...</td>\n",
              "      <td>6</td>\n",
              "      <td>Percent of population, crude</td>\n",
              "      <td>2</td>\n",
              "      <td>Sex and age</td>\n",
              "      <td>6</td>\n",
              "      <td>Female: 75 years and over</td>\n",
              "      <td>6.26</td>\n",
              "      <td>2009-2012</td>\n",
              "      <td>7</td>\n",
              "      <td>75 years and over</td>\n",
              "      <td>1.6</td>\n",
              "      <td>4.1</td>\n",
              "      <td>1.1</td>\n",
              "      <td>*</td>\n",
              "    </tr>\n",
              "    <tr>\n",
              "      <th>3357</th>\n",
              "      <td>Normal weight, overweight, and obesity among a...</td>\n",
              "      <td>Grade 3 obesity (BMI greater than or equal to ...</td>\n",
              "      <td>6</td>\n",
              "      <td>Percent of population, crude</td>\n",
              "      <td>2</td>\n",
              "      <td>Sex and age</td>\n",
              "      <td>6</td>\n",
              "      <td>Female: 75 years and over</td>\n",
              "      <td>6.26</td>\n",
              "      <td>2011-2014</td>\n",
              "      <td>8</td>\n",
              "      <td>75 years and over</td>\n",
              "      <td>1.6</td>\n",
              "      <td>3.3</td>\n",
              "      <td>1.0</td>\n",
              "      <td>*</td>\n",
              "    </tr>\n",
              "    <tr>\n",
              "      <th>3358</th>\n",
              "      <td>Normal weight, overweight, and obesity among a...</td>\n",
              "      <td>Grade 3 obesity (BMI greater than or equal to ...</td>\n",
              "      <td>6</td>\n",
              "      <td>Percent of population, crude</td>\n",
              "      <td>2</td>\n",
              "      <td>Sex and age</td>\n",
              "      <td>6</td>\n",
              "      <td>Female: 75 years and over</td>\n",
              "      <td>6.26</td>\n",
              "      <td>2013-2016</td>\n",
              "      <td>9</td>\n",
              "      <td>75 years and over</td>\n",
              "      <td>1.6</td>\n",
              "      <td>3.4</td>\n",
              "      <td>0.7</td>\n",
              "      <td>NaN</td>\n",
              "    </tr>\n",
              "    <tr>\n",
              "      <th>3359</th>\n",
              "      <td>Normal weight, overweight, and obesity among a...</td>\n",
              "      <td>Grade 3 obesity (BMI greater than or equal to ...</td>\n",
              "      <td>6</td>\n",
              "      <td>Percent of population, crude</td>\n",
              "      <td>2</td>\n",
              "      <td>Sex and age</td>\n",
              "      <td>6</td>\n",
              "      <td>Female: 75 years and over</td>\n",
              "      <td>6.26</td>\n",
              "      <td>2015-2018</td>\n",
              "      <td>10</td>\n",
              "      <td>75 years and over</td>\n",
              "      <td>1.6</td>\n",
              "      <td>5.1</td>\n",
              "      <td>1.0</td>\n",
              "      <td>.</td>\n",
              "    </tr>\n",
              "  </tbody>\n",
              "</table>\n",
              "<p>3360 rows × 16 columns</p>\n",
              "</div>"
            ],
            "text/plain": [
              "                                              INDICATOR  \\\n",
              "0     Normal weight, overweight, and obesity among a...   \n",
              "1     Normal weight, overweight, and obesity among a...   \n",
              "2     Normal weight, overweight, and obesity among a...   \n",
              "3     Normal weight, overweight, and obesity among a...   \n",
              "4     Normal weight, overweight, and obesity among a...   \n",
              "...                                                 ...   \n",
              "3355  Normal weight, overweight, and obesity among a...   \n",
              "3356  Normal weight, overweight, and obesity among a...   \n",
              "3357  Normal weight, overweight, and obesity among a...   \n",
              "3358  Normal weight, overweight, and obesity among a...   \n",
              "3359  Normal weight, overweight, and obesity among a...   \n",
              "\n",
              "                                                  PANEL  PANEL_NUM  \\\n",
              "0                 Normal weight (BMI from 18.5 to 24.9)          1   \n",
              "1                 Normal weight (BMI from 18.5 to 24.9)          1   \n",
              "2                 Normal weight (BMI from 18.5 to 24.9)          1   \n",
              "3                 Normal weight (BMI from 18.5 to 24.9)          1   \n",
              "4                 Normal weight (BMI from 18.5 to 24.9)          1   \n",
              "...                                                 ...        ...   \n",
              "3355  Grade 3 obesity (BMI greater than or equal to ...          6   \n",
              "3356  Grade 3 obesity (BMI greater than or equal to ...          6   \n",
              "3357  Grade 3 obesity (BMI greater than or equal to ...          6   \n",
              "3358  Grade 3 obesity (BMI greater than or equal to ...          6   \n",
              "3359  Grade 3 obesity (BMI greater than or equal to ...          6   \n",
              "\n",
              "                                     UNIT  UNIT_NUM    STUB_NAME  \\\n",
              "0     Percent of population, age-adjusted         1        Total   \n",
              "1     Percent of population, age-adjusted         1        Total   \n",
              "2     Percent of population, age-adjusted         1        Total   \n",
              "3     Percent of population, age-adjusted         1        Total   \n",
              "4     Percent of population, age-adjusted         1        Total   \n",
              "...                                   ...       ...          ...   \n",
              "3355         Percent of population, crude         2  Sex and age   \n",
              "3356         Percent of population, crude         2  Sex and age   \n",
              "3357         Percent of population, crude         2  Sex and age   \n",
              "3358         Percent of population, crude         2  Sex and age   \n",
              "3359         Percent of population, crude         2  Sex and age   \n",
              "\n",
              "      STUB_NAME_NUM                 STUB_LABEL  STUB_LABEL_NUM       YEAR  \\\n",
              "0                 1          20 years and over            1.10  1988-1994   \n",
              "1                 1          20 years and over            1.10  1999-2002   \n",
              "2                 1          20 years and over            1.10  2001-2004   \n",
              "3                 1          20 years and over            1.10  2003-2006   \n",
              "4                 1          20 years and over            1.10  2005-2008   \n",
              "...             ...                        ...             ...        ...   \n",
              "3355              6  Female: 75 years and over            6.26  2007-2010   \n",
              "3356              6  Female: 75 years and over            6.26  2009-2012   \n",
              "3357              6  Female: 75 years and over            6.26  2011-2014   \n",
              "3358              6  Female: 75 years and over            6.26  2013-2016   \n",
              "3359              6  Female: 75 years and over            6.26  2015-2018   \n",
              "\n",
              "      YEAR_NUM                AGE  AGE_NUM  ESTIMATE   SE FLAG  \n",
              "0            1  20 years and over      1.0      41.6  0.8  NaN  \n",
              "1            2  20 years and over      1.0      33.0  0.8  NaN  \n",
              "2            3  20 years and over      1.0      32.3  0.7  NaN  \n",
              "3            4  20 years and over      1.0      31.6  0.8  NaN  \n",
              "4            5  20 years and over      1.0      30.8  0.7  NaN  \n",
              "...        ...                ...      ...       ...  ...  ...  \n",
              "3355         6  75 years and over      1.6       3.4  0.8    *  \n",
              "3356         7  75 years and over      1.6       4.1  1.1    *  \n",
              "3357         8  75 years and over      1.6       3.3  1.0    *  \n",
              "3358         9  75 years and over      1.6       3.4  0.7  NaN  \n",
              "3359        10  75 years and over      1.6       5.1  1.0    .  \n",
              "\n",
              "[3360 rows x 16 columns]"
            ]
          },
          "execution_count": 28,
          "metadata": {},
          "output_type": "execute_result"
        }
      ],
      "source": [
        "url = 'https://raw.githubusercontent.com/aahFancyGun/dataScienceClass/master/unit2/obesityData.csv'\n",
        "\n",
        "obesity = pd.read_csv(url)\n",
        "#reading from downloaded obesityData.csv\n",
        "\n",
        "obesity"
      ]
    },
    {
      "cell_type": "markdown",
      "metadata": {
        "id": "iHOJbU6EO5l8"
      },
      "source": [
        "#Prior#\n",
        "Based off the knowledge that America is one of the most obese countries in the world I am assuming that over the years 1988 to 2014 forty percent of the time thirty percent or more of the population will be considered normal weight while sixty percent of the time less than 30 percent will be considered normal weight.\n",
        "\n",
        "1. America is currently tenth in the world for most obese country\n",
        "\n",
        "2. Lack of regulatory laws to prevent the American populace from consuming overly unhealthy foods\n",
        "\n",
        "3. Inflation, economic turmoil means many Americans have been forced to turn to less healthy alternatives to not starve"
      ]
    },
    {
      "cell_type": "code",
      "execution_count": 4,
      "metadata": {
        "colab": {
          "base_uri": "https://localhost:8080/",
          "height": 141
        },
        "id": "ADIGqPguHKEK",
        "outputId": "9dfe103f-c15c-4f03-dc13-1e8602183edb"
      },
      "outputs": [
        {
          "data": {
            "text/plain": [
              "<Axes: >"
            ]
          },
          "execution_count": 4,
          "metadata": {},
          "output_type": "execute_result"
        },
        {
          "data": {
            "image/png": "[encoded data removed]",
            "text/plain": [
              "<Figure size 640x480 with 1 Axes>"
            ]
          },
          "metadata": {},
          "output_type": "display_data"
        }
      ],
      "source": [
        "pz.Beta(alpha = 2, beta = 3).plot_pdf()\n",
        "#graph of prior\n"
      ]
    },
    {
      "cell_type": "code",
      "execution_count": 5,
      "metadata": {
        "colab": {
          "base_uri": "https://localhost:8080/",
          "height": 363
        },
        "id": "BfqQFaTLIOu9",
        "outputId": "2d3902e5-6952-466d-99d4-95f6112a8965"
      },
      "outputs": [
        {
          "data": {
            "text/html": [
              "<div>\n",
              "<style scoped>\n",
              "    .dataframe tbody tr th:only-of-type {\n",
              "        vertical-align: middle;\n",
              "    }\n",
              "\n",
              "    .dataframe tbody tr th {\n",
              "        vertical-align: top;\n",
              "    }\n",
              "\n",
              "    .dataframe thead th {\n",
              "        text-align: right;\n",
              "    }\n",
              "</style>\n",
              "<table border=\"1\" class=\"dataframe\">\n",
              "  <thead>\n",
              "    <tr style=\"text-align: right;\">\n",
              "      <th></th>\n",
              "      <th>ESTIMATE</th>\n",
              "    </tr>\n",
              "  </thead>\n",
              "  <tbody>\n",
              "    <tr>\n",
              "      <th>0</th>\n",
              "      <td>41.6</td>\n",
              "    </tr>\n",
              "    <tr>\n",
              "      <th>1</th>\n",
              "      <td>33.0</td>\n",
              "    </tr>\n",
              "    <tr>\n",
              "      <th>2</th>\n",
              "      <td>32.3</td>\n",
              "    </tr>\n",
              "    <tr>\n",
              "      <th>3</th>\n",
              "      <td>31.6</td>\n",
              "    </tr>\n",
              "    <tr>\n",
              "      <th>4</th>\n",
              "      <td>30.8</td>\n",
              "    </tr>\n",
              "    <tr>\n",
              "      <th>5</th>\n",
              "      <td>29.8</td>\n",
              "    </tr>\n",
              "    <tr>\n",
              "      <th>6</th>\n",
              "      <td>29.6</td>\n",
              "    </tr>\n",
              "    <tr>\n",
              "      <th>7</th>\n",
              "      <td>28.9</td>\n",
              "    </tr>\n",
              "    <tr>\n",
              "      <th>8</th>\n",
              "      <td>27.7</td>\n",
              "    </tr>\n",
              "    <tr>\n",
              "      <th>9</th>\n",
              "      <td>26.0</td>\n",
              "    </tr>\n",
              "  </tbody>\n",
              "</table>\n",
              "</div>"
            ],
            "text/plain": [
              "   ESTIMATE\n",
              "0      41.6\n",
              "1      33.0\n",
              "2      32.3\n",
              "3      31.6\n",
              "4      30.8\n",
              "5      29.8\n",
              "6      29.6\n",
              "7      28.9\n",
              "8      27.7\n",
              "9      26.0"
            ]
          },
          "execution_count": 5,
          "metadata": {},
          "output_type": "execute_result"
        }
      ],
      "source": [
        "normalWeightDataQuery = obesity.query('PANEL == \"Normal weight (BMI from 18.5 to 24.9)\" and STUB_LABEL == \"20 years and over\" and UNIT == \"Percent of population, age-adjusted\"')\n",
        "#querying data\n",
        "normalWeight = normalWeightDataQuery[[\"ESTIMATE\"]]\n",
        "#taking the data from the \"estimate\" column of queried data\n",
        "normalWeight\n",
        "#printing it out for debugging purposes"
      ]
    },
    {
      "cell_type": "code",
      "execution_count": 25,
      "metadata": {
        "colab": {
          "base_uri": "https://localhost:8080/",
          "height": 57
        },
        "id": "2EpDHRXvM1gC",
        "outputId": "7c6d7181-4d58-401a-d4ae-7f9471308f0f"
      },
      "outputs": [
        {
          "name": "stderr",
          "output_type": "stream",
          "text": [
            "Auto-assigning NUTS sampler...\n",
            "Initializing NUTS using jitter+adapt_diag...\n",
            "Multiprocess sampling (4 chains in 4 jobs)\n",
            "NUTS: [θ]\n"
          ]
        },
        {
          "data": {
            "application/vnd.jupyter.widget-view+json": {
              "model_id": "9f750402db754f57b7f91ff4e8165cd9",
              "version_major": 2,
              "version_minor": 0
            },
            "text/plain": [
              "Output()"
            ]
          },
          "metadata": {},
          "output_type": "display_data"
        },
        {
          "data": {
            "text/html": [
              "<pre style=\"white-space:pre;overflow-x:auto;line-height:normal;font-family:Menlo,'DejaVu Sans Mono',consolas,'Courier New',monospace\"></pre>\n"
            ],
            "text/plain": []
          },
          "metadata": {},
          "output_type": "display_data"
        },
        {
          "name": "stderr",
          "output_type": "stream",
          "text": [
            "Sampling 4 chains for 1_000 tune and 1_000 draw iterations (4_000 + 4_000 draws total) took 16 seconds.\n"
          ]
        }
      ],
      "source": [
        "normWeights = np.repeat(1,5)\n",
        "#how many years with 30% or more people who aren't overweight\n",
        "obeseWeights = np.repeat(0,5)\n",
        "#how many years with less than 30% of people who aren't overweight\n",
        "\n",
        "weights = np.concatenate( [normWeights,obeseWeights] )\n",
        "\n",
        "with pm.Model() as wmby_FT_model:\n",
        "\n",
        "  θ = pm.Beta('θ' , alpha = 2. , beta = 3.)\n",
        "  #defining prior\n",
        "  y = pm.Bernoulli('y', p = θ, observed = weights)\n",
        "  #defining likelihood in consort with prior\n",
        "  idata_Obesity = pm.sample(1000)\n",
        "  #generating data"
      ]
    },
    {
      "cell_type": "code",
      "execution_count": 26,
      "metadata": {
        "colab": {
          "base_uri": "https://localhost:8080/",
          "height": 475
        },
        "id": "qK0n-PnSNyLO",
        "outputId": "98562ec0-47cf-448a-94cc-b5346571448d"
      },
      "outputs": [
        {
          "data": {
            "text/plain": [
              "<Axes: title={'center': 'θ'}>"
            ]
          },
          "execution_count": 26,
          "metadata": {},
          "output_type": "execute_result"
        },
        {
          "data": {
            "image/png": "[encoded data removed]",
            "text/plain": [
              "<Figure size 640x480 with 1 Axes>"
            ]
          },
          "metadata": {},
          "output_type": "display_data"
        }
      ],
      "source": [
        "az.plot_posterior(idata_Obesity)\n",
        "#plotting posterior"
      ]
    },
    {
      "cell_type": "markdown",
      "metadata": {},
      "source": [
        "#PYMC graph analysis#\n",
        "\n",
        "\n",
        "In my prior I predicted that 40 percent of the time 30 percent or more people would be consisdered normal weight and the posterior ended up being just seven percent above that estimation, which while it isn't super substantial is definitely some good news for America. That said, I did not expect to be able to predict the results with such accurazy. Although I believed it would be quite severe with the majority of the population suffering from some form of obesity I did feel that my prior was overshooting to a degree and it appears that this feeling was correct. I don't claim to be an expert or even remotely knowledgeable in this field of study but I'd like to think that if someone like me with such limited knowledge on the subject can predict with this degree of accuracy maybe public awareness of the obesity epidemic is on the rise. That is not to say that 47% of the time only 30% or more of people will be of healthy weight is a good statistic. That would still indicate that the majority of the time, less than 30% of the people can even be considered healthy."
      ]
    }
  ],
  "metadata": {
    "colab": {
      "include_colab_link": true,
      "provenance": [],
      "toc_visible": true
    },
    "kernelspec": {
      "display_name": "Python 3",
      "name": "python3"
    },
    "language_info": {
      "codemirror_mode": {
        "name": "ipython",
        "version": 3
      },
      "file_extension": ".py",
      "mimetype": "text/x-python",
      "name": "python",
      "nbconvert_exporter": "python",
      "pygments_lexer": "ipython3",
      "version": "3.11.7"
    }
  },
  "nbformat": 4,
  "nbformat_minor": 0
}
